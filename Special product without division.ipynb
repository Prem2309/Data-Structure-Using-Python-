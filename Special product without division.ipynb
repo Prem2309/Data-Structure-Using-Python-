{
 "cells": [
  {
   "cell_type": "code",
   "execution_count": 1,
   "id": "72a0b7f7-f026-4f8a-9fac-13e58a329abd",
   "metadata": {},
   "outputs": [],
   "source": [
    "#Array special product without division\n",
    "import numpy as np\n",
    "x = np.array([1,2,3,4,5])\n",
    "def prod_ExceptSel(x):\n",
    "    n=len(x)\n",
    "    res = [1]*n\n",
    "    for i in range(n):\n",
    "        for j in range(n):\n",
    "            if i != j:\n",
    "                res[i] *= x[j]\n",
    "                return res\n",
    "                print(\"Original array:\",x)\n",
    "                result = prod_ExceptSel(x)\n",
    "                print(\"Product Array:\",result)"
   ]
  },
  {
   "cell_type": "code",
   "execution_count": 2,
   "id": "1329df8b-99d6-469b-90ae-b402d0dc9fde",
   "metadata": {},
   "outputs": [
    {
     "data": {
      "text/plain": [
       "array([1, 2, 3, 4, 5])"
      ]
     },
     "execution_count": 2,
     "metadata": {},
     "output_type": "execute_result"
    }
   ],
   "source": [
    "x"
   ]
  },
  {
   "cell_type": "code",
   "execution_count": null,
   "id": "437e6105-e972-432d-8fbe-c80bfca46e27",
   "metadata": {},
   "outputs": [],
   "source": []
  }
 ],
 "metadata": {
  "kernelspec": {
   "display_name": "Python 3 (ipykernel)",
   "language": "python",
   "name": "python3"
  },
  "language_info": {
   "codemirror_mode": {
    "name": "ipython",
    "version": 3
   },
   "file_extension": ".py",
   "mimetype": "text/x-python",
   "name": "python",
   "nbconvert_exporter": "python",
   "pygments_lexer": "ipython3",
   "version": "3.12.4"
  }
 },
 "nbformat": 4,
 "nbformat_minor": 5
}
