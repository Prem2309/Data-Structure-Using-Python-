{
 "cells": [
  {
   "cell_type": "code",
   "execution_count": 3,
   "id": "383ac96a-a6fc-43ea-b358-e1b446feb858",
   "metadata": {},
   "outputs": [
    {
     "name": "stdin",
     "output_type": "stream",
     "text": [
      " 5\n"
     ]
    },
    {
     "name": "stdout",
     "output_type": "stream",
     "text": [
      "element is not found\n"
     ]
    }
   ],
   "source": [
    "def linear_search(arr,key):\n",
    "    size = len(arr)\n",
    "    index = 0\n",
    "    while index<size:\n",
    "        if arr[index]==key:\n",
    "             return index\n",
    "        index = index+1\n",
    "    return -1\n",
    "#take user input \n",
    "arr = [15,10,0,20,40]\n",
    "key = int(input())\n",
    "position = linear_search(arr,key)\n",
    "if position == -1:\n",
    "    print(\"element is not found\")\n",
    "else:\n",
    "    print(\"element is found\")\n",
    "        "
   ]
  },
  {
   "cell_type": "code",
   "execution_count": null,
   "id": "efedf1ed-7527-4c4d-a803-e7d01d28a350",
   "metadata": {},
   "outputs": [],
   "source": []
  }
 ],
 "metadata": {
  "kernelspec": {
   "display_name": "Python 3 (ipykernel)",
   "language": "python",
   "name": "python3"
  },
  "language_info": {
   "codemirror_mode": {
    "name": "ipython",
    "version": 3
   },
   "file_extension": ".py",
   "mimetype": "text/x-python",
   "name": "python",
   "nbconvert_exporter": "python",
   "pygments_lexer": "ipython3",
   "version": "3.12.4"
  }
 },
 "nbformat": 4,
 "nbformat_minor": 5
}
