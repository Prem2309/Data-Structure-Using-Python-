{
 "cells": [
  {
   "cell_type": "code",
   "execution_count": null,
   "id": "60f1f60c-1e67-4dc5-845e-fd012d579914",
   "metadata": {},
   "outputs": [],
   "source": []
  }
 ],
 "metadata": {
  "kernelspec": {
   "display_name": "",
   "name": ""
  },
  "language_info": {
   "name": ""
  }
 },
 "nbformat": 4,
 "nbformat_minor": 5
}
