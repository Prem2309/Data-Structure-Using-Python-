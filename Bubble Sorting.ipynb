{
 "cells": [
  {
   "cell_type": "code",
   "execution_count": 3,
   "id": "dc213bc7-6e8a-47cd-a3a7-d340214d60fb",
   "metadata": {},
   "outputs": [
    {
     "name": "stdin",
     "output_type": "stream",
     "text": [
      "Enter number of elements: 5\n",
      "Enter elements: 50\n",
      "Enter elements: 45\n",
      "Enter elements: 12\n",
      "Enter elements: 56\n",
      "Enter elements: 55\n"
     ]
    },
    {
     "name": "stdout",
     "output_type": "stream",
     "text": [
      "The sorted elements are:\n",
      "12 45 50 55 56 "
     ]
    }
   ],
   "source": [
    "def bubble_sort(list):\n",
    "    size=len(list)\n",
    "    for i in range(size-1):\n",
    "        for j in range(size-1):\n",
    "            if list[j]>list[j+1]:\n",
    "                temp=list[j]\n",
    "                list[j]=list[j+1]\n",
    "                list[j+1] =temp\n",
    "n=int(input(\"Enter number of elements:\"))\n",
    "lst=[]\n",
    "for i in range(n):\n",
    "    num=int(input(\"Enter elements:\"))\n",
    "    lst.append(num)\n",
    "bubble_sort(lst)\n",
    "print(\"The sorted elements are:\")\n",
    "for i in range (n):\n",
    "    print(lst[i], end =\" \")"
   ]
  },
  {
   "cell_type": "code",
   "execution_count": null,
   "id": "e6bc8493-099d-47a3-a906-c728c9b77c9e",
   "metadata": {},
   "outputs": [],
   "source": []
  }
 ],
 "metadata": {
  "kernelspec": {
   "display_name": "Python 3 (ipykernel)",
   "language": "python",
   "name": "python3"
  },
  "language_info": {
   "codemirror_mode": {
    "name": "ipython",
    "version": 3
   },
   "file_extension": ".py",
   "mimetype": "text/x-python",
   "name": "python",
   "nbconvert_exporter": "python",
   "pygments_lexer": "ipython3",
   "version": "3.12.4"
  }
 },
 "nbformat": 4,
 "nbformat_minor": 5
}
