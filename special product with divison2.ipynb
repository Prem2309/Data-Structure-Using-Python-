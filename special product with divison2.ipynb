{
 "cells": [
  {
   "cell_type": "code",
   "execution_count": 1,
   "id": "77595b04-a8b0-4560-addb-18584f9fb17c",
   "metadata": {},
   "outputs": [],
   "source": [
    "import numpy as np\n",
    "import math\n",
    "x = np.array([1,2,3,4,5])\n",
    "def prod_ExceptSel_div(x):\n",
    "    total_product = math.prod(x)\n",
    "    prod_arr = []\n",
    "    for i in x:\n",
    "        prod_arr.append(total_product//i)\n",
    "        return prod_arr\n",
    "        print(\"Original array:\",x)\n",
    "        result = prod_ExceptSel(x)\n",
    "        print(\"Product Array:\",result)"
   ]
  },
  {
   "cell_type": "code",
   "execution_count": 2,
   "id": "9874a804-9a5a-427c-9f6a-09f66d53311b",
   "metadata": {},
   "outputs": [
    {
     "data": {
      "text/plain": [
       "array([1, 2, 3, 4, 5])"
      ]
     },
     "execution_count": 2,
     "metadata": {},
     "output_type": "execute_result"
    }
   ],
   "source": [
    "x"
   ]
  },
  {
   "cell_type": "code",
   "execution_count": null,
   "id": "33005ea3-9bd5-4420-8d4e-b0d486b09b5c",
   "metadata": {},
   "outputs": [],
   "source": []
  }
 ],
 "metadata": {
  "kernelspec": {
   "display_name": "Python 3 (ipykernel)",
   "language": "python",
   "name": "python3"
  },
  "language_info": {
   "codemirror_mode": {
    "name": "ipython",
    "version": 3
   },
   "file_extension": ".py",
   "mimetype": "text/x-python",
   "name": "python",
   "nbconvert_exporter": "python",
   "pygments_lexer": "ipython3",
   "version": "3.12.4"
  }
 },
 "nbformat": 4,
 "nbformat_minor": 5
}
