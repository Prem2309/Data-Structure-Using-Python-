{
 "cells": [
  {
   "cell_type": "code",
   "execution_count": 3,
   "id": "3b4c6fcd-7d0a-4162-b67a-5366f589083e",
   "metadata": {},
   "outputs": [
    {
     "name": "stdout",
     "output_type": "stream",
     "text": [
      "[1, 4]\n",
      "[2, 5]\n",
      "[3, 6]\n"
     ]
    }
   ],
   "source": [
    "def transpose_matrix(matrix):\n",
    "    # Get the dimensions of the matrix\n",
    "    rows, cols = len(matrix), len(matrix[0])\n",
    "    \n",
    "    # Initialize transpose matrix with zeros\n",
    "    transpose = [[0 for _ in range(rows)] for _ in range(cols)]\n",
    "    \n",
    "    # Perform transposition using nested loops\n",
    "    for i in range(rows):\n",
    "        for j in range(cols):\n",
    "            transpose[j][i] = matrix[i][j]\n",
    "    \n",
    "    return transpose\n",
    "\n",
    "# Example matrix\n",
    "matrix = [[1, 2, 3],\n",
    "          [4, 5, 6]]\n",
    "\n",
    "# Compute transpose\n",
    "result = transpose_matrix(matrix)\n",
    "\n",
    "# Print result\n",
    "for row in result:\n",
    "    print(row)"
   ]
  },
  {
   "cell_type": "code",
   "execution_count": null,
   "id": "1b238054-3a39-4a4c-a455-966f3e794a2b",
   "metadata": {},
   "outputs": [],
   "source": []
  }
 ],
 "metadata": {
  "kernelspec": {
   "display_name": "Python 3 (ipykernel)",
   "language": "python",
   "name": "python3"
  },
  "language_info": {
   "codemirror_mode": {
    "name": "ipython",
    "version": 3
   },
   "file_extension": ".py",
   "mimetype": "text/x-python",
   "name": "python",
   "nbconvert_exporter": "python",
   "pygments_lexer": "ipython3",
   "version": "3.12.4"
  }
 },
 "nbformat": 4,
 "nbformat_minor": 5
}
