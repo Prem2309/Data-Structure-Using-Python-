{
 "cells": [
  {
   "cell_type": "code",
   "execution_count": 1,
   "id": "d3cfa308-397b-4310-80c9-f4bdfa130ab5",
   "metadata": {},
   "outputs": [
    {
     "name": "stdout",
     "output_type": "stream",
     "text": [
      "\n",
      "Program to implement stack\n",
      "-------------\n",
      "1. Push\n",
      "2. Pop\n",
      "3. Peek\n",
      "4. Display\n",
      "5. Exit\n",
      "\n"
     ]
    },
    {
     "name": "stdin",
     "output_type": "stream",
     "text": [
      "Enter your choice:  1\n",
      "Enter the data:  12\n"
     ]
    },
    {
     "name": "stdout",
     "output_type": "stream",
     "text": [
      "\n",
      "Program to implement stack\n",
      "-------------\n",
      "1. Push\n",
      "2. Pop\n",
      "3. Peek\n",
      "4. Display\n",
      "5. Exit\n",
      "\n"
     ]
    },
    {
     "name": "stdin",
     "output_type": "stream",
     "text": [
      "Enter your choice:  2\n"
     ]
    },
    {
     "name": "stdout",
     "output_type": "stream",
     "text": [
      "Popped item: 12\n",
      "\n",
      "Program to implement stack\n",
      "-------------\n",
      "1. Push\n",
      "2. Pop\n",
      "3. Peek\n",
      "4. Display\n",
      "5. Exit\n",
      "\n"
     ]
    },
    {
     "name": "stdin",
     "output_type": "stream",
     "text": [
      "Enter your choice:  154\n"
     ]
    },
    {
     "name": "stdout",
     "output_type": "stream",
     "text": [
      "Invalid choice, please try again.\n",
      "\n",
      "Program to implement stack\n",
      "-------------\n",
      "1. Push\n",
      "2. Pop\n",
      "3. Peek\n",
      "4. Display\n",
      "5. Exit\n",
      "\n"
     ]
    },
    {
     "name": "stdin",
     "output_type": "stream",
     "text": [
      "Enter your choice:  3\n"
     ]
    },
    {
     "name": "stdout",
     "output_type": "stream",
     "text": [
      "Stack is empty\n",
      "\n",
      "Program to implement stack\n",
      "-------------\n",
      "1. Push\n",
      "2. Pop\n",
      "3. Peek\n",
      "4. Display\n",
      "5. Exit\n",
      "\n"
     ]
    },
    {
     "name": "stdin",
     "output_type": "stream",
     "text": [
      "Enter your choice:  5\n"
     ]
    },
    {
     "name": "stdout",
     "output_type": "stream",
     "text": [
      "Exiting program. Goodbye!\n"
     ]
    }
   ],
   "source": [
    "class Stack:\n",
    "    def __init__(self):  # Fixed __init__ method\n",
    "        self.items = []\n",
    "\n",
    "    def isempty(self):\n",
    "        return self.items == []\n",
    "\n",
    "    def push(self, item):\n",
    "        self.items.append(item)\n",
    "\n",
    "    def pop(self):\n",
    "        return self.items.pop()\n",
    "\n",
    "    def peek(self):\n",
    "        return self.items[-1]\n",
    "\n",
    "    def size(self):\n",
    "        return len(self.items)\n",
    "\n",
    "    def display(self):\n",
    "        top = len(self.items) - 1\n",
    "        print()\n",
    "        for i in range(top, -1, -1):\n",
    "            print('|', self.items[i], '|')\n",
    "            print(\"-------------\")\n",
    "\n",
    "\n",
    "s = Stack()\n",
    "while True:\n",
    "    print(\"\\nProgram to implement stack\")\n",
    "    print(\"-------------\")\n",
    "    print(\"1. Push\")\n",
    "    print(\"2. Pop\")\n",
    "    print(\"3. Peek\")\n",
    "    print(\"4. Display\")\n",
    "    print(\"5. Exit\")\n",
    "    print(\"\")\n",
    "    try:\n",
    "        choice = int(input(\"Enter your choice: \"))\n",
    "        if choice == 1:\n",
    "            num = int(input(\"Enter the data: \"))\n",
    "            s.push(num)\n",
    "        elif choice == 2:\n",
    "            if s.isempty():\n",
    "                print(\"Stack underflow\")\n",
    "            else:\n",
    "                num = s.pop()\n",
    "                print(\"Popped item:\", num)\n",
    "        elif choice == 3:\n",
    "            if s.isempty():\n",
    "                print(\"Stack is empty\")\n",
    "            else:\n",
    "                num = s.peek()\n",
    "                print(\"Peek item:\", num)\n",
    "        elif choice == 4:\n",
    "            s.display()\n",
    "        elif choice == 5:\n",
    "            print(\"Exiting program. Goodbye!\")\n",
    "            break\n",
    "        else:\n",
    "            print(\"Invalid choice, please try again.\")  # Fixed non-breaking space\n",
    "    except ValueError:\n",
    "        print(\"Please enter a valid integer.\")\n"
   ]
  },
  {
   "cell_type": "code",
   "execution_count": 2,
   "id": "f6b751c5-2a40-4614-85f0-5a6d8d555a01",
   "metadata": {},
   "outputs": [
    {
     "name": "stdout",
     "output_type": "stream",
     "text": [
      "Original Stack:\n",
      "4\n",
      "3\n",
      "2\n",
      "1\n",
      "\n",
      "Reversed Stack:\n",
      "1\n",
      "2\n",
      "3\n",
      "4\n"
     ]
    }
   ],
   "source": [
    "class Stack:\n",
    "    def __init__(self):\n",
    "        self.items = []\n",
    "\n",
    "    def isempty(self):\n",
    "        return self.items == []\n",
    "\n",
    "    def push(self, item):\n",
    "        self.items.append(item)\n",
    "\n",
    "    def pop(self):\n",
    "        if not self.isempty():\n",
    "            return self.items.pop()\n",
    "        return None\n",
    "\n",
    "    def display(self):\n",
    "        for item in reversed(self.items):\n",
    "            print(item)\n",
    "\n",
    "# Function to reverse the stack\n",
    "def reverse_stack(s):\n",
    "    if not s.isempty():\n",
    "        # Remove the top item\n",
    "        temp = s.pop()\n",
    "        # Reverse the remaining stack recursively\n",
    "        reverse_stack(s)\n",
    "        # Push the removed item back at the bottom\n",
    "        insert_at_bottom(s, temp)\n",
    "\n",
    "# Helper function to insert an element at the bottom of the stack\n",
    "def insert_at_bottom(s, item):\n",
    "    if s.isempty():\n",
    "        s.push(item)\n",
    "    else:\n",
    "        # Remove all elements\n",
    "        temp = s.pop()\n",
    "        insert_at_bottom(s, item)\n",
    "        # Put the removed element back on top\n",
    "        s.push(temp)\n",
    "\n",
    "# Example usage\n",
    "s = Stack()\n",
    "s.push(1)\n",
    "s.push(2)\n",
    "s.push(3)\n",
    "s.push(4)\n",
    "\n",
    "print(\"Original Stack:\")\n",
    "s.display()\n",
    "\n",
    "reverse_stack(s)\n",
    "\n",
    "print(\"\\nReversed Stack:\")\n",
    "s.display()\n"
   ]
  },
  {
   "cell_type": "code",
   "execution_count": null,
   "id": "08213a30-6f37-49bb-8b91-45a30a471f01",
   "metadata": {},
   "outputs": [],
   "source": []
  }
 ],
 "metadata": {
  "kernelspec": {
   "display_name": "Python 3 (ipykernel)",
   "language": "python",
   "name": "python3"
  },
  "language_info": {
   "codemirror_mode": {
    "name": "ipython",
    "version": 3
   },
   "file_extension": ".py",
   "mimetype": "text/x-python",
   "name": "python",
   "nbconvert_exporter": "python",
   "pygments_lexer": "ipython3",
   "version": "3.12.4"
  }
 },
 "nbformat": 4,
 "nbformat_minor": 5
}
