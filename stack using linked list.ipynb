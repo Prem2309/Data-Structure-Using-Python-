{
 "cells": [
  {
   "cell_type": "code",
   "execution_count": 20,
   "id": "18bb1132-3878-4dad-abdc-ecbaa3713930",
   "metadata": {},
   "outputs": [
    {
     "ename": "SyntaxError",
     "evalue": "invalid syntax (3184440339.py, line 18)",
     "output_type": "error",
     "traceback": [
      "\u001b[1;36m  Cell \u001b[1;32mIn[20], line 18\u001b[1;36m\u001b[0m\n\u001b[1;33m    print('|',format(self.ak[1],>,'>','|'))\u001b[0m\n\u001b[1;37m                                ^\u001b[0m\n\u001b[1;31mSyntaxError\u001b[0m\u001b[1;31m:\u001b[0m invalid syntax\n"
     ]
    }
   ],
   "source": [
    "class stack:\n",
    "    def __init__(self):\n",
    "        self.items==[]\n",
    "        def isempty(self):\n",
    "            return self.items==[]\n",
    "        def push(self,ak):\n",
    "            self.append(ak)\n",
    "        def pop(self):\n",
    "            return self.ak.pop()\n",
    "        def peek(self):\n",
    "            return self.ak[len(self.ak)-1]\n",
    "        def size(self):\n",
    "            return len(self.ak)\n",
    "        def display(self):\n",
    "            top=len(self.ak)-1\n",
    "            print()\n",
    "            for i in range (top,-1,-1):\n",
    "                print('|',format(self.ak[1],>,'>','|'))\n",
    "s=stack()\n",
    "while(true):\n",
    "    print(\"\\n programto implement staack\")\n",
    "    print(\"-------------------------------\")\n",
    "    print(\"1.push\")\n",
    "    print(\"2.pop\")\n",
    "    print(\"4.display\")\n",
    "    print(\"5.exit\")\n",
    "    print(\"-----------------------------\")\n",
    "    choice=int(inpit(\"enter your choice\")\n",
    "    if choice"
   ]
  },
  {
   "cell_type": "code",
   "execution_count": null,
   "id": "0ef60cb9-2de1-4cda-b9dd-ab3c50b465e9",
   "metadata": {},
   "outputs": [],
   "source": []
  }
 ],
 "metadata": {
  "kernelspec": {
   "display_name": "Python 3 (ipykernel)",
   "language": "python",
   "name": "python3"
  },
  "language_info": {
   "codemirror_mode": {
    "name": "ipython",
    "version": 3
   },
   "file_extension": ".py",
   "mimetype": "text/x-python",
   "name": "python",
   "nbconvert_exporter": "python",
   "pygments_lexer": "ipython3",
   "version": "3.12.7"
  }
 },
 "nbformat": 4,
 "nbformat_minor": 5
}
