{
 "cells": [
  {
   "cell_type": "code",
   "execution_count": 2,
   "id": "0a737ce8-5ed9-42d5-a96d-46081930d657",
   "metadata": {},
   "outputs": [
    {
     "name": "stdout",
     "output_type": "stream",
     "text": [
      "Name: Prem\n",
      "Age: 2\n",
      "Id: 1234\n"
     ]
    }
   ],
   "source": [
    "class Employee:\n",
    "    def E_data(ak,name,age,id):\n",
    "        ak.name=name\n",
    "        ak.age=age\n",
    "        ak.id=id\n",
    "    def display(ak):\n",
    "        print(\"Name:\",ak.name)\n",
    "        print(\"Age:\",ak.age)\n",
    "        print(\"Id:\",ak.id)\n",
    "\n",
    "e1=Employee()\n",
    "e1.E_data('Prem',2,1234)\n",
    "e1.display()"
   ]
  },
  {
   "cell_type": "code",
   "execution_count": 6,
   "id": "97859c15-01a6-4a73-91a4-b45793507881",
   "metadata": {},
   "outputs": [
    {
     "name": "stdout",
     "output_type": "stream",
     "text": [
      "2\n"
     ]
    }
   ],
   "source": [
    "class Pet:\n",
    "    count = 0\n",
    "    def __init__(self,n=' ',w=0,c=' '):\n",
    "        self.name = n\n",
    "        Pet.count+=1\n",
    "    def display(self):\n",
    "        print(Pet.count)\n",
    "#object creaation \n",
    "p1=Pet(\"xxxx\",20,\"w\")\n",
    "p2=Pet(\"YYYY\")\n",
    "p1.display()"
   ]
  },
  {
   "cell_type": "code",
   "execution_count": null,
   "id": "4798662a-81be-4dad-956f-a78edbc3a228",
   "metadata": {},
   "outputs": [],
   "source": []
  }
 ],
 "metadata": {
  "kernelspec": {
   "display_name": "Python 3 (ipykernel)",
   "language": "python",
   "name": "python3"
  },
  "language_info": {
   "codemirror_mode": {
    "name": "ipython",
    "version": 3
   },
   "file_extension": ".py",
   "mimetype": "text/x-python",
   "name": "python",
   "nbconvert_exporter": "python",
   "pygments_lexer": "ipython3",
   "version": "3.12.4"
  }
 },
 "nbformat": 4,
 "nbformat_minor": 5
}
