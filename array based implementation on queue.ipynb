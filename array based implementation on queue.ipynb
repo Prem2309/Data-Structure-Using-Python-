{
 "cells": [
  {
   "cell_type": "code",
   "execution_count": null,
   "id": "381d0a9b-4061-4f7d-9f9e-4c11bf6101d8",
   "metadata": {},
   "outputs": [],
   "source": [
    "import numpy as np \n",
    "class Queue:\n",
    "    def _int_(self,size):\n",
    "        self.front=-1\n",
    "        self.rear=-1\n",
    "        self.size=size\n",
    "        self.arr=np.empty(size,dtype=int)\n",
    "     def isempty(self):\n",
    "         return self.front==-1\n",
    "     def arr_size(self):\n",
    "         return len(self.arr)\n",
    "     def isfull (self):\n",
    "         return self.rear==self.size-1\n",
    "     def peek(self):\n",
    "         return self.arr[self.front]\n",
    "     def enqueue(self,item):\n",
    "         if self.isfull():\n",
    "             print(\"Queue is full!!\")\n",
    "         else:"
   ]
  }
 ],
 "metadata": {
  "kernelspec": {
   "display_name": "Python 3 (ipykernel)",
   "language": "python",
   "name": "python3"
  },
  "language_info": {
   "codemirror_mode": {
    "name": "ipython",
    "version": 3
   },
   "file_extension": ".py",
   "mimetype": "text/x-python",
   "name": "python",
   "nbconvert_exporter": "python",
   "pygments_lexer": "ipython3",
   "version": "3.12.4"
  }
 },
 "nbformat": 4,
 "nbformat_minor": 5
}
