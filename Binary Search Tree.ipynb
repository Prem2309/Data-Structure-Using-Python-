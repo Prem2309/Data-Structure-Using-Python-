{
 "cells": [
  {
   "cell_type": "code",
   "execution_count": null,
   "id": "7d317676-3c32-4bb1-b523-31e607a15ad3",
   "metadata": {},
   "outputs": [],
   "source": [
    "class Stack:\n",
    "    def __init__(self):\n",
    "        self.items = []\n",
    "\n",
    "    def isempty(self):\n",
    "        return len(self.items)==0\n",
    "\n",
    "    def push(self,item):\n",
    "        self.items.append(itme)\n",
    "\n",
    "    def pop(self):\n",
    "        if not self.isempty():\n",
    "            return self.isempty()\n",
    "        return None\n",
    "\n",
    "    def peek(self):\n",
    "        if not self.isempty():\n",
    "            return self.items[-1]\n",
    "        return None\n",
    "\n",
    "class TreeNode:\n",
    "    def __init__(self, Newdata=None, lchild=None, rchild=None):\n",
    "        self.left=lchild\n",
    "        self.data=Newdata\n",
    "        self.right=rchild\n",
    "\n",
    "class BST:\n",
    "    def __init__(self):\n",
    "        self.root = None\n",
    "\n",
    "    def insert(self, newData):\n",
    "        newNode = TreeNode(newData)\n",
    "        if self.root is None:\n",
    "            self.root = newNode\n",
    "        else:\n",
    "            curNode = self.root\n",
    "            parentNode = Node\n",
    "            while curNode is  not None:\n",
    "                parentNode = curNode\n",
    "                if newData < curNode.data:\n",
    "                    curNode = curNode.left\n",
    "                else:\n",
    "                    parentNode.right = newNode\n",
    "\n",
    "    def preorder(self):\n",
    "        st = stack()\n",
    "        curNode = self.root\n",
    "        "
   ]
  }
 ],
 "metadata": {
  "kernelspec": {
   "display_name": "Python 3 (ipykernel)",
   "language": "python",
   "name": "python3"
  },
  "language_info": {
   "codemirror_mode": {
    "name": "ipython",
    "version": 3
   },
   "file_extension": ".py",
   "mimetype": "text/x-python",
   "name": "python",
   "nbconvert_exporter": "python",
   "pygments_lexer": "ipython3",
   "version": "3.12.4"
  }
 },
 "nbformat": 4,
 "nbformat_minor": 5
}
