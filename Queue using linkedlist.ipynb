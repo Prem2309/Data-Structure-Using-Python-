{
 "cells": [
  {
   "cell_type": "code",
   "execution_count": 2,
   "id": "c38496b5-4062-4db6-bbe8-57c305c8ac0f",
   "metadata": {},
   "outputs": [
    {
     "name": "stdout",
     "output_type": "stream",
     "text": [
      "\n",
      "Program to implement Queue\n",
      "1. Enqueue\n",
      "2. Dequeue\n",
      "3. Peek\n",
      "4. Display\n",
      "5. Exit\n"
     ]
    },
    {
     "name": "stdin",
     "output_type": "stream",
     "text": [
      "Enter Your Choice:  1\n",
      "Enter the data:  10\n"
     ]
    },
    {
     "name": "stdout",
     "output_type": "stream",
     "text": [
      "\n",
      "Program to implement Queue\n",
      "1. Enqueue\n",
      "2. Dequeue\n",
      "3. Peek\n",
      "4. Display\n",
      "5. Exit\n"
     ]
    },
    {
     "name": "stdin",
     "output_type": "stream",
     "text": [
      "Enter Your Choice:  4\n"
     ]
    },
    {
     "name": "stdout",
     "output_type": "stream",
     "text": [
      "10 -> None\n",
      "\n",
      "Program to implement Queue\n",
      "1. Enqueue\n",
      "2. Dequeue\n",
      "3. Peek\n",
      "4. Display\n",
      "5. Exit\n"
     ]
    },
    {
     "name": "stdin",
     "output_type": "stream",
     "text": [
      "Enter Your Choice:  3\n"
     ]
    },
    {
     "name": "stdout",
     "output_type": "stream",
     "text": [
      "Item at the front of the queue: 10\n",
      "\n",
      "Program to implement Queue\n",
      "1. Enqueue\n",
      "2. Dequeue\n",
      "3. Peek\n",
      "4. Display\n",
      "5. Exit\n"
     ]
    },
    {
     "name": "stdin",
     "output_type": "stream",
     "text": [
      "Enter Your Choice:  5\n"
     ]
    },
    {
     "name": "stdout",
     "output_type": "stream",
     "text": [
      "\n",
      "Quitting...\n"
     ]
    }
   ],
   "source": [
    "class Node:\n",
    "    def __init__(self, NewData, link):\n",
    "        self.data = NewData\n",
    "        self.next = link\n",
    "\n",
    "class Queue:\n",
    "    def __init__(self):\n",
    "        self.front = None\n",
    "        self.rear = None\n",
    "\n",
    "    def isempty(self):\n",
    "        return self.front is None\n",
    "\n",
    "    def enqueue(self, NewData):\n",
    "        newNode = Node(NewData, None)\n",
    "        if self.front is None:\n",
    "            self.front = self.rear = newNode\n",
    "        else:\n",
    "            self.rear.next = newNode\n",
    "            self.rear = newNode\n",
    "\n",
    "    def peek(self):\n",
    "        if self.front is not None:\n",
    "            return self.front.data\n",
    "        return None\n",
    "\n",
    "    def dequeue(self):\n",
    "        if self.isempty():\n",
    "            return None\n",
    "        frontNode = self.front\n",
    "        if self.front == self.rear:\n",
    "            self.front = self.rear = None\n",
    "        else:\n",
    "            self.front = frontNode.next\n",
    "        return frontNode.data\n",
    "\n",
    "    def display(self):\n",
    "        curNode = self.front\n",
    "        while curNode is not None:\n",
    "            print(curNode.data, end=\" -> \")\n",
    "            curNode = curNode.next\n",
    "        print(\"None\")\n",
    "\n",
    "q = Queue()\n",
    "while True:\n",
    "    print(\"\\nProgram to implement Queue\")\n",
    "    print(\"1. Enqueue\")\n",
    "    print(\"2. Dequeue\")\n",
    "    print(\"3. Peek\")\n",
    "    print(\"4. Display\")\n",
    "    print(\"5. Exit\")\n",
    "    choice = int(input(\"Enter Your Choice: \"))\n",
    "\n",
    "    if choice == 1:\n",
    "        num = int(input(\"Enter the data: \"))\n",
    "        q.enqueue(num)\n",
    "    elif choice == 2:\n",
    "        if q.isempty():\n",
    "            print(\"Queue Underflow!\")\n",
    "        else:\n",
    "            num = q.dequeue()\n",
    "            print(\"Item dequeued:\", num)\n",
    "    elif choice == 3:\n",
    "        if q.isempty():\n",
    "            print(\"Queue Underflow!\")\n",
    "        else:\n",
    "            num = q.peek()\n",
    "            print(\"Item at the front of the queue:\", num)\n",
    "    elif choice == 4:\n",
    "        if q.isempty():\n",
    "            print(\"Queue is empty!\")\n",
    "        else:\n",
    "            q.display()\n",
    "    elif choice == 5:\n",
    "        print(\"\\nQuitting...\")\n",
    "        break\n",
    "    else:\n",
    "        print(\"Invalid choice, Please enter the correct choice!\")"
   ]
  },
  {
   "cell_type": "code",
   "execution_count": null,
   "id": "2406250f-59ff-4293-8f25-4bf8564c1f8e",
   "metadata": {},
   "outputs": [],
   "source": []
  }
 ],
 "metadata": {
  "kernelspec": {
   "display_name": "Python 3 (ipykernel)",
   "language": "python",
   "name": "python3"
  },
  "language_info": {
   "codemirror_mode": {
    "name": "ipython",
    "version": 3
   },
   "file_extension": ".py",
   "mimetype": "text/x-python",
   "name": "python",
   "nbconvert_exporter": "python",
   "pygments_lexer": "ipython3",
   "version": "3.12.4"
  }
 },
 "nbformat": 4,
 "nbformat_minor": 5
}
